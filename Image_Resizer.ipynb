{
  "nbformat": 4,
  "nbformat_minor": 0,
  "metadata": {
    "colab": {
      "provenance": [],
      "authorship_tag": "ABX9TyOzPraoYZP5x0oNKKoo1y5E",
      "include_colab_link": true
    },
    "kernelspec": {
      "name": "python3",
      "display_name": "Python 3"
    },
    "language_info": {
      "name": "python"
    }
  },
  "cells": [
    {
      "cell_type": "markdown",
      "metadata": {
        "id": "view-in-github",
        "colab_type": "text"
      },
      "source": [
        "<a href=\"https://colab.research.google.com/github/Aarushi900/Image-Resizer/blob/main/Image_Resizer.ipynb\" target=\"_parent\"><img src=\"https://colab.research.google.com/assets/colab-badge.svg\" alt=\"Open In Colab\"/></a>"
      ]
    },
    {
      "cell_type": "markdown",
      "source": [
        "# Image Resizer"
      ],
      "metadata": {
        "id": "dLXklLJmDEKw"
      }
    },
    {
      "cell_type": "markdown",
      "source": [
        "We use OpenCV library to resize all the images in the input folder and then store it into output folder."
      ],
      "metadata": {
        "id": "TqpRIAC5DIYZ"
      }
    },
    {
      "cell_type": "markdown",
      "source": [
        "libraries used"
      ],
      "metadata": {
        "id": "brhio5VaDRBW"
      }
    },
    {
      "cell_type": "code",
      "execution_count": 1,
      "metadata": {
        "id": "DyMyoRExCqdW"
      },
      "outputs": [],
      "source": [
        "import cv2\n",
        "import os"
      ]
    },
    {
      "cell_type": "code",
      "source": [
        "! pip install simple_image_download"
      ],
      "metadata": {
        "id": "zKPEUScQDYRU",
        "colab": {
          "base_uri": "https://localhost:8080/"
        },
        "outputId": "c86f3197-bfce-4218-ca3e-93575d7a5b54"
      },
      "execution_count": 2,
      "outputs": [
        {
          "output_type": "stream",
          "name": "stdout",
          "text": [
            "Collecting simple_image_download\n",
            "  Downloading simple_image_download-0.5-py3-none-any.whl (7.0 kB)\n",
            "Requirement already satisfied: requests in /usr/local/lib/python3.10/dist-packages (from simple_image_download) (2.27.1)\n",
            "INFO: pip is looking at multiple versions of simple-image-download to determine which version is compatible with other requirements. This could take a while.\n",
            "  Downloading simple_image_download-0.4-py3-none-any.whl (4.9 kB)\n",
            "  Downloading simple_image_download-0.2-py3-none-any.whl (3.8 kB)\n",
            "Requirement already satisfied: urllib3<1.27,>=1.21.1 in /usr/local/lib/python3.10/dist-packages (from requests->simple_image_download) (1.26.16)\n",
            "Requirement already satisfied: certifi>=2017.4.17 in /usr/local/lib/python3.10/dist-packages (from requests->simple_image_download) (2023.5.7)\n",
            "Requirement already satisfied: charset-normalizer~=2.0.0 in /usr/local/lib/python3.10/dist-packages (from requests->simple_image_download) (2.0.12)\n",
            "Requirement already satisfied: idna<4,>=2.5 in /usr/local/lib/python3.10/dist-packages (from requests->simple_image_download) (3.4)\n",
            "Installing collected packages: simple_image_download\n",
            "Successfully installed simple_image_download-0.2\n"
          ]
        }
      ]
    },
    {
      "cell_type": "code",
      "source": [
        "from simple_image_download import simple_image_download as simp"
      ],
      "metadata": {
        "id": "kksrArqnDamT"
      },
      "execution_count": 3,
      "outputs": []
    },
    {
      "cell_type": "markdown",
      "source": [
        "Input and output folders"
      ],
      "metadata": {
        "id": "F3pgKvC2Dejj"
      }
    },
    {
      "cell_type": "code",
      "source": [
        "#input folder\n",
        "response = simp.simple_image_download\n",
        "limit=100\n",
        "response().download('flowers garden', limit)\n",
        "\n",
        "input_folder=\"/content/simple_images/flowers garden\"\n",
        "input_list=os.listdir(input_folder)"
      ],
      "metadata": {
        "id": "t7h3wGRyDhH_",
        "colab": {
          "base_uri": "https://localhost:8080/"
        },
        "outputId": "a02b1181-3d5f-48ef-8a09-9dd73e733a93"
      },
      "execution_count": 18,
      "outputs": [
        {
          "output_type": "stream",
          "name": "stdout",
          "text": [
            "HTTPSConnectionPool(host='www.gardentech.com', port=443): Max retries exceeded with url: /-/media/project/oneweb/gardentech/images/blog/how-to-start-a-flower-garden/how-to-start-a-flower-garden-h.jpg (Caused by SSLError(SSLCertVerificationError(1, '[SSL: CERTIFICATE_VERIFY_FAILED] certificate verify failed: unable to get local issuer certificate (_ssl.c:1007)')))\n",
            "HTTPSConnectionPool(host='www.pennington.com', port=443): Max retries exceeded with url: /-/media/Project/OneWeb/Pennington/Images/blog/fertilizer/How-to-Have-a-Beautiful-Garden-in-Full-Sun/Colorful-flower-bed-og.jpg (Caused by SSLError(SSLCertVerificationError(1, '[SSL: CERTIFICATE_VERIFY_FAILED] certificate verify failed: unable to get local issuer certificate (_ssl.c:1007)')))\n",
            "HTTPSConnectionPool(host='www.gardentech.com', port=443): Max retries exceeded with url: /-/media/project/oneweb/gardentech/images/blog/growing-beautiful-garden-roses/grow-roses-header-og.jpg (Caused by SSLError(SSLCertVerificationError(1, '[SSL: CERTIFICATE_VERIFY_FAILED] certificate verify failed: unable to get local issuer certificate (_ssl.c:1007)')))\n",
            "HTTPSConnectionPool(host='www.gardentech.com', port=443): Max retries exceeded with url: /-/media/project/oneweb/gardentech/images/blog/how-to-start-a-flower-garden/how-to-start-a-flower-garden-h.jpg (Caused by SSLError(SSLCertVerificationError(1, '[SSL: CERTIFICATE_VERIFY_FAILED] certificate verify failed: unable to get local issuer certificate (_ssl.c:1007)')))\n"
          ]
        }
      ]
    },
    {
      "cell_type": "code",
      "source": [
        "#output folder\n",
        "os.makedirs(\"output_images\")\n",
        "output_folder=os.path.abspath(\"output_images\")"
      ],
      "metadata": {
        "id": "I05n6nJ8Dkbb"
      },
      "execution_count": 5,
      "outputs": []
    },
    {
      "cell_type": "markdown",
      "source": [
        "Function to resize images to 50% of original size"
      ],
      "metadata": {
        "id": "ROb9Zxc6Dnqs"
      }
    },
    {
      "cell_type": "code",
      "source": [
        "def resize_images(input_folder,output_folder,input_list):\n",
        "  # Get a list of image files in the input folder\n",
        "  image_files = [img for img in input_list if os.path.isfile(os.path.join(input_folder,img))]\n",
        "  # Iterate over each file\n",
        "  for im in image_files:\n",
        "    # Read the image\n",
        "    im_path = os.path.join(input_folder,im)\n",
        "    image = cv2.imread(im_path)\n",
        "\n",
        "    # Resize the image to 50% of its original size\n",
        "    try:\n",
        "      resized_image = cv2.resize(image,None,fx=0.5, fy=0.5, interpolation=cv2.INTER_LINEAR)\n",
        "      output_path = os.path.join(output_folder, im)\n",
        "      cv2.imwrite(output_path,resized_image)\n",
        "    except:\n",
        "      continue\n",
        "    # Saving the resized image to the output folder\n",
        "\n",
        "\n",
        "    print(f\"Resized {im} and saved as {output_path}\")\n",
        "\n",
        "  print(\"Resized all images successfully!\")"
      ],
      "metadata": {
        "id": "jq_dkg9wDuX0"
      },
      "execution_count": 23,
      "outputs": []
    },
    {
      "cell_type": "markdown",
      "source": [
        "Driver program"
      ],
      "metadata": {
        "id": "2iZZPhqJgUZr"
      }
    },
    {
      "cell_type": "code",
      "source": [
        "resize_images(input_folder,output_folder,input_list)"
      ],
      "metadata": {
        "colab": {
          "base_uri": "https://localhost:8080/"
        },
        "id": "P6ShK-GHgV90",
        "outputId": "dcff7129-dea1-46e3-a45a-f891f2f722a8"
      },
      "execution_count": 24,
      "outputs": [
        {
          "output_type": "stream",
          "name": "stdout",
          "text": [
            "Resized flowers garden_74.jpg and saved as /content/output_images/flowers garden_74.jpg\n",
            "Resized flowers garden_28.jpg and saved as /content/output_images/flowers garden_28.jpg\n",
            "Resized flowers garden_17.jpg and saved as /content/output_images/flowers garden_17.jpg\n",
            "Resized flowers garden_75.jpg and saved as /content/output_images/flowers garden_75.jpg\n",
            "Resized flowers garden_80.jpg and saved as /content/output_images/flowers garden_80.jpg\n",
            "Resized flowers garden_72.jpg and saved as /content/output_images/flowers garden_72.jpg\n",
            "Resized flowers garden_3.jpg and saved as /content/output_images/flowers garden_3.jpg\n",
            "Resized flowers garden_1.jpg and saved as /content/output_images/flowers garden_1.jpg\n",
            "Resized flowers garden_70.jpg and saved as /content/output_images/flowers garden_70.jpg\n",
            "Resized flowers garden_81.jpg and saved as /content/output_images/flowers garden_81.jpg\n",
            "Resized flowers garden_35.jpg and saved as /content/output_images/flowers garden_35.jpg\n",
            "Resized flowers garden_20.jpg and saved as /content/output_images/flowers garden_20.jpg\n",
            "Resized flowers garden_32.jpg and saved as /content/output_images/flowers garden_32.jpg\n",
            "Resized flowers garden_46.jpg and saved as /content/output_images/flowers garden_46.jpg\n",
            "Resized flowers garden_62.jpg and saved as /content/output_images/flowers garden_62.jpg\n",
            "Resized flowers garden_100.jpg and saved as /content/output_images/flowers garden_100.jpg\n",
            "Resized flowers garden_8.jpg and saved as /content/output_images/flowers garden_8.jpg\n",
            "Resized flowers garden_76.jpg and saved as /content/output_images/flowers garden_76.jpg\n",
            "Resized flowers garden_6.jpg and saved as /content/output_images/flowers garden_6.jpg\n",
            "Resized flowers garden_13.jpg and saved as /content/output_images/flowers garden_13.jpg\n",
            "Resized flowers garden_57.jpg and saved as /content/output_images/flowers garden_57.jpg\n",
            "Resized flowers garden_56.jpg and saved as /content/output_images/flowers garden_56.jpg\n",
            "Resized flowers garden_5.jpg and saved as /content/output_images/flowers garden_5.jpg\n",
            "Resized flowers garden_2.jpg and saved as /content/output_images/flowers garden_2.jpg\n",
            "Resized flowers garden_37.jpg and saved as /content/output_images/flowers garden_37.jpg\n",
            "Resized flowers garden_59.jpg and saved as /content/output_images/flowers garden_59.jpg\n",
            "Resized flowers garden_10.jpg and saved as /content/output_images/flowers garden_10.jpg\n",
            "Resized flowers garden_90.jpg and saved as /content/output_images/flowers garden_90.jpg\n",
            "Resized flowers garden_40.jpg and saved as /content/output_images/flowers garden_40.jpg\n",
            "Resized flowers garden_52.jpg and saved as /content/output_images/flowers garden_52.jpg\n",
            "Resized flowers garden_98.jpg and saved as /content/output_images/flowers garden_98.jpg\n",
            "Resized flowers garden_15.jpg and saved as /content/output_images/flowers garden_15.jpg\n",
            "Resized flowers garden_36.jpg and saved as /content/output_images/flowers garden_36.jpg\n",
            "Resized flowers garden_87.jpg and saved as /content/output_images/flowers garden_87.jpg\n",
            "Resized flowers garden_54.jpg and saved as /content/output_images/flowers garden_54.jpg\n",
            "Resized flowers garden_26.jpg and saved as /content/output_images/flowers garden_26.jpg\n",
            "Resized flowers garden_11.jpg and saved as /content/output_images/flowers garden_11.jpg\n",
            "Resized flowers garden_42.jpg and saved as /content/output_images/flowers garden_42.jpg\n",
            "Resized flowers garden_93.jpg and saved as /content/output_images/flowers garden_93.jpg\n",
            "Resized flowers garden_49.jpg and saved as /content/output_images/flowers garden_49.jpg\n",
            "Resized flowers garden_63.jpg and saved as /content/output_images/flowers garden_63.jpg\n",
            "Resized flowers garden_25.jpg and saved as /content/output_images/flowers garden_25.jpg\n",
            "Resized flowers garden_55.jpg and saved as /content/output_images/flowers garden_55.jpg\n",
            "Resized flowers garden_34.jpg and saved as /content/output_images/flowers garden_34.jpg\n",
            "Resized flowers garden_84.jpg and saved as /content/output_images/flowers garden_84.jpg\n",
            "Resized flowers garden_38.jpg and saved as /content/output_images/flowers garden_38.jpg\n",
            "Resized flowers garden_30.jpg and saved as /content/output_images/flowers garden_30.jpg\n",
            "Resized flowers garden_9.jpg and saved as /content/output_images/flowers garden_9.jpg\n",
            "Resized flowers garden_91.jpg and saved as /content/output_images/flowers garden_91.jpg\n",
            "Resized flowers garden_12.jpg and saved as /content/output_images/flowers garden_12.jpg\n",
            "Resized flowers garden_86.jpg and saved as /content/output_images/flowers garden_86.jpg\n",
            "Resized flowers garden_79.jpg and saved as /content/output_images/flowers garden_79.jpg\n",
            "Resized flowers garden_60.jpg and saved as /content/output_images/flowers garden_60.jpg\n",
            "Resized flowers garden_51.jpg and saved as /content/output_images/flowers garden_51.jpg\n",
            "Resized flowers garden_95.jpg and saved as /content/output_images/flowers garden_95.jpg\n",
            "Resized flowers garden_53.jpg and saved as /content/output_images/flowers garden_53.jpg\n",
            "Resized flowers garden_7.jpg and saved as /content/output_images/flowers garden_7.jpg\n",
            "Resized flowers garden_82.jpg and saved as /content/output_images/flowers garden_82.jpg\n",
            "Resized flowers garden_39.jpg and saved as /content/output_images/flowers garden_39.jpg\n",
            "Resized flowers garden_68.jpg and saved as /content/output_images/flowers garden_68.jpg\n",
            "Resized flowers garden_31.jpg and saved as /content/output_images/flowers garden_31.jpg\n",
            "Resized flowers garden_44.jpg and saved as /content/output_images/flowers garden_44.jpg\n",
            "Resized flowers garden_66.jpg and saved as /content/output_images/flowers garden_66.jpg\n",
            "Resized flowers garden_21.jpg and saved as /content/output_images/flowers garden_21.jpg\n",
            "Resized flowers garden_18.jpg and saved as /content/output_images/flowers garden_18.jpg\n",
            "Resized flowers garden_29.jpg and saved as /content/output_images/flowers garden_29.jpg\n",
            "Resized flowers garden_88.jpg and saved as /content/output_images/flowers garden_88.jpg\n",
            "Resized flowers garden_23.jpg and saved as /content/output_images/flowers garden_23.jpg\n",
            "Resized flowers garden_69.jpg and saved as /content/output_images/flowers garden_69.jpg\n",
            "Resized flowers garden_16.jpg and saved as /content/output_images/flowers garden_16.jpg\n",
            "Resized flowers garden_71.jpg and saved as /content/output_images/flowers garden_71.jpg\n",
            "Resized flowers garden_41.jpg and saved as /content/output_images/flowers garden_41.jpg\n",
            "Resized flowers garden_4.jpg and saved as /content/output_images/flowers garden_4.jpg\n",
            "Resized flowers garden_78.jpg and saved as /content/output_images/flowers garden_78.jpg\n",
            "Resized flowers garden_85.jpg and saved as /content/output_images/flowers garden_85.jpg\n",
            "Resized flowers garden_27.jpg and saved as /content/output_images/flowers garden_27.jpg\n",
            "Resized flowers garden_92.jpg and saved as /content/output_images/flowers garden_92.jpg\n",
            "Resized flowers garden_48.jpg and saved as /content/output_images/flowers garden_48.jpg\n",
            "Resized flowers garden_33.jpg and saved as /content/output_images/flowers garden_33.jpg\n",
            "Resized flowers garden_58.jpg and saved as /content/output_images/flowers garden_58.jpg\n",
            "Resized flowers garden_77.jpg and saved as /content/output_images/flowers garden_77.jpg\n",
            "Resized flowers garden_96.jpg and saved as /content/output_images/flowers garden_96.jpg\n",
            "Resized flowers garden_67.jpg and saved as /content/output_images/flowers garden_67.jpg\n",
            "Resized flowers garden_83.jpg and saved as /content/output_images/flowers garden_83.jpg\n",
            "Resized all images successfully!\n"
          ]
        }
      ]
    }
  ]
}